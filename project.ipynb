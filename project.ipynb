{
 "cells": [
  {
   "cell_type": "code",
   "execution_count": 8,
   "id": "159e8cce",
   "metadata": {},
   "outputs": [
    {
     "name": "stdout",
     "output_type": "stream",
     "text": [
      "Enter Lower bound:- 1\n",
      "Enter Upper bound:- 50\n",
      "\n",
      "\tYou've only  6  chances to guess the integer!\n",
      "\n",
      "Guess a number:- 40\n",
      "You Guessed too high!\n",
      "Guess a number:- 30\n",
      "You Guessed too high!\n",
      "Guess a number:- 20\n",
      "You Guessed too high!\n",
      "Guess a number:- 10\n",
      "You guessed too small!\n",
      "Guess a number:- 15\n",
      "You guessed too small!\n",
      "Guess a number:- 19\n",
      "Congratulations you did it in  6  try\n",
      "\n",
      "The number is 19\n",
      "\tBetter Luck Next time!\n"
     ]
    }
   ],
   "source": [
    "import random\n",
    "import math\n",
    "lower = int(input(\"Enter Lower bound:- \"))\n",
    "upper = int(input(\"Enter Upper bound:- \"))\n",
    "x = random.randint(lower, upper)\n",
    "print(\"\\n\\tYou've only \", round(math.log(upper - lower + 1, 2)),\" chances to guess the integer!\\n\")\n",
    "count = 0\n",
    "while count < math.log(upper - lower + 1, 2):\n",
    "    count += 1\n",
    "    guess = int(input(\"Guess a number:- \"))\n",
    "    if x == guess:\n",
    "        print(\"Congratulations you did it in \",count, \" try\")\n",
    "        break\n",
    "    elif x > guess:\n",
    "        print(\"You guessed too small!\")\n",
    "    elif x < guess:\n",
    "        print(\"You Guessed too high!\")\n",
    "if count >= math.log(upper - lower + 1, 2):\n",
    "    print(\"\\nThe number is %d\" % x)\n",
    "    print(\"\\tBetter Luck Next time!\")"
   ]
  },
  {
   "cell_type": "code",
   "execution_count": null,
   "id": "8ea69583",
   "metadata": {},
   "outputs": [],
   "source": []
  }
 ],
 "metadata": {
  "kernelspec": {
   "display_name": "Python 3 (ipykernel)",
   "language": "python",
   "name": "python3"
  },
  "language_info": {
   "codemirror_mode": {
    "name": "ipython",
    "version": 3
   },
   "file_extension": ".py",
   "mimetype": "text/x-python",
   "name": "python",
   "nbconvert_exporter": "python",
   "pygments_lexer": "ipython3",
   "version": "3.11.5"
  }
 },
 "nbformat": 4,
 "nbformat_minor": 5
}
